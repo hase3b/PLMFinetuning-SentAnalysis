{
  "nbformat": 4,
  "nbformat_minor": 0,
  "metadata": {
    "colab": {
      "provenance": [],
      "gpuType": "T4"
    },
    "kernelspec": {
      "name": "python3",
      "display_name": "Python 3"
    },
    "language_info": {
      "name": "python"
    },
    "accelerator": "GPU"
  },
  "cells": [
    {
      "cell_type": "markdown",
      "source": [
        "##### **Mount G-drive folder and access files**"
      ],
      "metadata": {
        "id": "mCTErOIiOZcl"
      }
    },
    {
      "cell_type": "code",
      "source": [
        "from google.colab import drive\n",
        "drive.mount('/content/gdrive',force_remount=True)\n",
        "!ls '/content/gdrive/My Drive/Text - A3'"
      ],
      "metadata": {
        "colab": {
          "base_uri": "https://localhost:8080/"
        },
        "id": "MyGdbC1tOcen",
        "outputId": "4c399d83-dc20-4bda-ccfe-b18936e6c202"
      },
      "execution_count": null,
      "outputs": [
        {
          "output_type": "stream",
          "name": "stdout",
          "text": [
            "Mounted at /content/gdrive\n",
            "data  results  word2vec_model.bin\n",
            "time: 6.54 s (started: 2025-01-03 15:33:52 +00:00)\n"
          ]
        }
      ]
    },
    {
      "cell_type": "code",
      "source": [
        "model_folder_path = '/content/gdrive/My Drive/Text - A3/'\n",
        "folder_path = '/content/gdrive/My Drive/Text - A3/data'\n",
        "name_of_train_data = 'train.csv'\n",
        "name_of_test_data = 'test.csv'"
      ],
      "metadata": {
        "id": "mkL89z5oPjRF",
        "colab": {
          "base_uri": "https://localhost:8080/"
        },
        "outputId": "dd9d4cc6-f436-4ff2-fc79-e5e10367bcc3"
      },
      "execution_count": null,
      "outputs": [
        {
          "output_type": "stream",
          "name": "stdout",
          "text": [
            "time: 625 µs (started: 2025-01-03 15:33:59 +00:00)\n"
          ]
        }
      ]
    },
    {
      "cell_type": "code",
      "source": [
        "path_to_train_data = folder_path + '/' + name_of_train_data\n",
        "path_to_test_data = folder_path + '/' + name_of_test_data"
      ],
      "metadata": {
        "id": "jFuZmYhwO3rf",
        "colab": {
          "base_uri": "https://localhost:8080/"
        },
        "outputId": "88d9a442-5fa4-4895-f822-1c175fca12e6"
      },
      "execution_count": null,
      "outputs": [
        {
          "output_type": "stream",
          "name": "stdout",
          "text": [
            "time: 586 µs (started: 2025-01-03 15:33:59 +00:00)\n"
          ]
        }
      ]
    },
    {
      "cell_type": "markdown",
      "source": [
        "##### **Installing dependencies**"
      ],
      "metadata": {
        "id": "lGx3k9oTN6dU"
      }
    },
    {
      "cell_type": "code",
      "source": [
        "!pip install ipython-autotime gdown"
      ],
      "metadata": {
        "id": "iqrl56zeCrIp",
        "colab": {
          "base_uri": "https://localhost:8080/"
        },
        "outputId": "0104493a-679a-44b4-b6af-d1c630a43eea"
      },
      "execution_count": null,
      "outputs": [
        {
          "output_type": "stream",
          "name": "stdout",
          "text": [
            "Requirement already satisfied: ipython-autotime in /usr/local/lib/python3.10/dist-packages (0.3.2)\n",
            "Requirement already satisfied: gdown in /usr/local/lib/python3.10/dist-packages (5.2.0)\n",
            "Requirement already satisfied: ipython in /usr/local/lib/python3.10/dist-packages (from ipython-autotime) (7.34.0)\n",
            "Requirement already satisfied: beautifulsoup4 in /usr/local/lib/python3.10/dist-packages (from gdown) (4.12.3)\n",
            "Requirement already satisfied: filelock in /usr/local/lib/python3.10/dist-packages (from gdown) (3.16.1)\n",
            "Requirement already satisfied: requests[socks] in /usr/local/lib/python3.10/dist-packages (from gdown) (2.32.3)\n",
            "Requirement already satisfied: tqdm in /usr/local/lib/python3.10/dist-packages (from gdown) (4.67.1)\n",
            "Requirement already satisfied: soupsieve>1.2 in /usr/local/lib/python3.10/dist-packages (from beautifulsoup4->gdown) (2.6)\n",
            "Requirement already satisfied: setuptools>=18.5 in /usr/local/lib/python3.10/dist-packages (from ipython->ipython-autotime) (75.1.0)\n",
            "Requirement already satisfied: jedi>=0.16 in /usr/local/lib/python3.10/dist-packages (from ipython->ipython-autotime) (0.19.2)\n",
            "Requirement already satisfied: decorator in /usr/local/lib/python3.10/dist-packages (from ipython->ipython-autotime) (4.4.2)\n",
            "Requirement already satisfied: pickleshare in /usr/local/lib/python3.10/dist-packages (from ipython->ipython-autotime) (0.7.5)\n",
            "Requirement already satisfied: traitlets>=4.2 in /usr/local/lib/python3.10/dist-packages (from ipython->ipython-autotime) (5.7.1)\n",
            "Requirement already satisfied: prompt-toolkit!=3.0.0,!=3.0.1,<3.1.0,>=2.0.0 in /usr/local/lib/python3.10/dist-packages (from ipython->ipython-autotime) (3.0.48)\n",
            "Requirement already satisfied: pygments in /usr/local/lib/python3.10/dist-packages (from ipython->ipython-autotime) (2.18.0)\n",
            "Requirement already satisfied: backcall in /usr/local/lib/python3.10/dist-packages (from ipython->ipython-autotime) (0.2.0)\n",
            "Requirement already satisfied: matplotlib-inline in /usr/local/lib/python3.10/dist-packages (from ipython->ipython-autotime) (0.1.7)\n",
            "Requirement already satisfied: pexpect>4.3 in /usr/local/lib/python3.10/dist-packages (from ipython->ipython-autotime) (4.9.0)\n",
            "Requirement already satisfied: charset-normalizer<4,>=2 in /usr/local/lib/python3.10/dist-packages (from requests[socks]->gdown) (3.4.0)\n",
            "Requirement already satisfied: idna<4,>=2.5 in /usr/local/lib/python3.10/dist-packages (from requests[socks]->gdown) (3.10)\n",
            "Requirement already satisfied: urllib3<3,>=1.21.1 in /usr/local/lib/python3.10/dist-packages (from requests[socks]->gdown) (2.2.3)\n",
            "Requirement already satisfied: certifi>=2017.4.17 in /usr/local/lib/python3.10/dist-packages (from requests[socks]->gdown) (2024.12.14)\n",
            "Requirement already satisfied: PySocks!=1.5.7,>=1.5.6 in /usr/local/lib/python3.10/dist-packages (from requests[socks]->gdown) (1.7.1)\n",
            "Requirement already satisfied: parso<0.9.0,>=0.8.4 in /usr/local/lib/python3.10/dist-packages (from jedi>=0.16->ipython->ipython-autotime) (0.8.4)\n",
            "Requirement already satisfied: ptyprocess>=0.5 in /usr/local/lib/python3.10/dist-packages (from pexpect>4.3->ipython->ipython-autotime) (0.7.0)\n",
            "Requirement already satisfied: wcwidth in /usr/local/lib/python3.10/dist-packages (from prompt-toolkit!=3.0.0,!=3.0.1,<3.1.0,>=2.0.0->ipython->ipython-autotime) (0.2.13)\n",
            "time: 4.95 s (started: 2025-01-03 15:33:59 +00:00)\n"
          ]
        }
      ]
    },
    {
      "cell_type": "markdown",
      "source": [
        "##### **Importing dependencies**"
      ],
      "metadata": {
        "id": "JYV5TiU2zwQM"
      }
    },
    {
      "cell_type": "code",
      "source": [
        "%load_ext autotime\n",
        "import pandas as pd\n",
        "import numpy as np\n",
        "import nltk\n",
        "import os\n",
        "import zipfile\n",
        "import tarfile\n",
        "import re\n",
        "import gdown\n",
        "import gzip\n",
        "import shutil\n",
        "\n",
        "from transformers import AutoTokenizer, AutoModelForSequenceClassification, pipeline\n",
        "from sklearn.metrics import accuracy_score, precision_score, recall_score, f1_score, classification_report\n",
        "\n",
        "# from nltk.corpus import stopwords\n",
        "# from nltk import word_tokenize\n",
        "# from nltk.stem import WordNetLemmatizer\n",
        "# from sklearn.feature_extraction.text import TfidfVectorizer\n",
        "# from sklearn.model_selection import train_test_split\n",
        "# from sklearn.metrics import accuracy_score\n",
        "# from sklearn.naive_bayes import MultinomialNB\n",
        "# from sklearn.linear_model import LogisticRegression\n",
        "# from sklearn.neighbors import KNeighborsClassifier\n",
        "# from sklearn.ensemble import RandomForestClassifier, GradientBoostingClassifier\n",
        "# from google.colab import files\n",
        "# from scipy.sparse import hstack\n",
        "# from gensim.models import Word2Vec"
      ],
      "metadata": {
        "colab": {
          "base_uri": "https://localhost:8080/"
        },
        "id": "s58Pnf7Lz0Q2",
        "outputId": "14e53694-8815-4b56-a7c2-32510fc8bcd8"
      },
      "execution_count": null,
      "outputs": [
        {
          "output_type": "stream",
          "name": "stdout",
          "text": [
            "The autotime extension is already loaded. To reload it, use:\n",
            "  %reload_ext autotime\n",
            "time: 2.93 ms (started: 2025-01-03 15:34:04 +00:00)\n"
          ]
        }
      ]
    },
    {
      "cell_type": "markdown",
      "source": [
        "##### **Baseline DistilBERT - no prelim cleaning**"
      ],
      "metadata": {
        "id": "B_UeGK54qHsX"
      }
    },
    {
      "cell_type": "code",
      "source": [
        "test_df = pd.read_csv(path_to_test_data)\n",
        "\n",
        "classifier = pipeline(\"text-classification\", model=\"distilbert-base-uncased-finetuned-sst-2-english\")\n",
        "\n",
        "predictions = classifier(list(test_df[\"review\"]), truncation=True, max_length=512)\n",
        "\n",
        "label_mapping = {'positive': 1, 'negative': 0}\n",
        "predicted_labels = [label_mapping[p[\"label\"].lower()] for p in predictions]\n",
        "\n",
        "test_df[\"sentiment_binary\"] = test_df[\"sentiment\"].map(label_mapping)\n",
        "\n",
        "accuracy = accuracy_score(test_df[\"sentiment_binary\"], predicted_labels)\n",
        "precision = precision_score(test_df[\"sentiment_binary\"], predicted_labels)\n",
        "recall = recall_score(test_df[\"sentiment_binary\"], predicted_labels)\n",
        "f1 = f1_score(test_df[\"sentiment_binary\"], predicted_labels)\n",
        "\n",
        "print(\"\\nBaseline Evaluation Metrics:\")\n",
        "print(f\"Accuracy: {accuracy:.4f}\")\n",
        "print(f\"Precision: {precision:.4f}\")\n",
        "print(f\"Recall: {recall:.4f}\")\n",
        "print(f\"F1 Score: {f1:.4f}\")\n",
        "print(\"\\nDetailed Classification Report:\")\n",
        "print(classification_report(test_df[\"sentiment_binary\"], predicted_labels, target_names=['negative', 'positive']))\n",
        "\n",
        "results = {\n",
        "    'Accuracy': [accuracy],\n",
        "    'Precision': [precision],\n",
        "    'Recall': [recall],\n",
        "    'F1 Score': [f1],\n",
        "}\n",
        "\n",
        "results_df = pd.DataFrame(results)\n",
        "\n",
        "report_dict = classification_report(test_df[\"sentiment_binary\"], predicted_labels, target_names=['negative', 'positive'], output_dict=True)\n",
        "report_df = pd.DataFrame(report_dict).transpose()\n",
        "\n",
        "with pd.ExcelWriter('/content/3_Baseline_DistilBERT_nocleaning.xlsx') as writer:\n",
        "    results_df.to_excel(writer, sheet_name='Metrics', index=False)\n",
        "    report_df.to_excel(writer, sheet_name='Classification Report', index=True)\n",
        "\n",
        "from google.colab import files\n",
        "files.download('/content/3_Baseline_DistilBERT_nocleaning.xlsx')"
      ],
      "metadata": {
        "colab": {
          "base_uri": "https://localhost:8080/",
          "height": 363
        },
        "id": "iIIVFOpqVM24",
        "outputId": "f58e8a45-8796-4c96-d3c9-a389b843fab1"
      },
      "execution_count": null,
      "outputs": [
        {
          "output_type": "stream",
          "name": "stderr",
          "text": [
            "Device set to use cuda:0\n"
          ]
        },
        {
          "output_type": "stream",
          "name": "stdout",
          "text": [
            "\n",
            "Baseline Evaluation Metrics:\n",
            "Accuracy: 0.8891\n",
            "Precision: 0.9143\n",
            "Recall: 0.8603\n",
            "F1 Score: 0.8865\n",
            "\n",
            "Detailed Classification Report:\n",
            "              precision    recall  f1-score   support\n",
            "\n",
            "    negative       0.87      0.92      0.89      9935\n",
            "    positive       0.91      0.86      0.89     10065\n",
            "\n",
            "    accuracy                           0.89     20000\n",
            "   macro avg       0.89      0.89      0.89     20000\n",
            "weighted avg       0.89      0.89      0.89     20000\n",
            "\n"
          ]
        },
        {
          "output_type": "display_data",
          "data": {
            "text/plain": [
              "<IPython.core.display.Javascript object>"
            ],
            "application/javascript": [
              "\n",
              "    async function download(id, filename, size) {\n",
              "      if (!google.colab.kernel.accessAllowed) {\n",
              "        return;\n",
              "      }\n",
              "      const div = document.createElement('div');\n",
              "      const label = document.createElement('label');\n",
              "      label.textContent = `Downloading \"${filename}\": `;\n",
              "      div.appendChild(label);\n",
              "      const progress = document.createElement('progress');\n",
              "      progress.max = size;\n",
              "      div.appendChild(progress);\n",
              "      document.body.appendChild(div);\n",
              "\n",
              "      const buffers = [];\n",
              "      let downloaded = 0;\n",
              "\n",
              "      const channel = await google.colab.kernel.comms.open(id);\n",
              "      // Send a message to notify the kernel that we're ready.\n",
              "      channel.send({})\n",
              "\n",
              "      for await (const message of channel.messages) {\n",
              "        // Send a message to notify the kernel that we're ready.\n",
              "        channel.send({})\n",
              "        if (message.buffers) {\n",
              "          for (const buffer of message.buffers) {\n",
              "            buffers.push(buffer);\n",
              "            downloaded += buffer.byteLength;\n",
              "            progress.value = downloaded;\n",
              "          }\n",
              "        }\n",
              "      }\n",
              "      const blob = new Blob(buffers, {type: 'application/binary'});\n",
              "      const a = document.createElement('a');\n",
              "      a.href = window.URL.createObjectURL(blob);\n",
              "      a.download = filename;\n",
              "      div.appendChild(a);\n",
              "      a.click();\n",
              "      div.remove();\n",
              "    }\n",
              "  "
            ]
          },
          "metadata": {}
        },
        {
          "output_type": "display_data",
          "data": {
            "text/plain": [
              "<IPython.core.display.Javascript object>"
            ],
            "application/javascript": [
              "download(\"download_717a6427-a6f3-43a5-b619-8076af9d009b\", \"3_Baseline_DistilBERT_nocleaning.xlsx\", 5825)"
            ]
          },
          "metadata": {}
        },
        {
          "output_type": "stream",
          "name": "stdout",
          "text": [
            "time: 3min 37s (started: 2025-01-03 14:59:06 +00:00)\n"
          ]
        }
      ]
    },
    {
      "cell_type": "code",
      "source": [
        "test_df = pd.read_csv(path_to_test_data)\n",
        "\n",
        "def clean_review(review):\n",
        "    review = re.sub(r'<.*?>', '', review)\n",
        "    review = re.sub(r'http\\S+|www\\S+|https\\S+', '', review, flags=re.MULTILINE)\n",
        "    review = review.strip()\n",
        "    return review\n",
        "\n",
        "test_df[\"review\"] = test_df[\"review\"].apply(clean_review)\n",
        "\n",
        "classifier = pipeline(\"text-classification\", model=\"distilbert-base-uncased-finetuned-sst-2-english\")\n",
        "\n",
        "predictions = classifier(list(test_df[\"review\"]), truncation=True, max_length=512)\n",
        "\n",
        "label_mapping = {'positive': 1, 'negative': 0}\n",
        "predicted_labels = [label_mapping[p[\"label\"].lower()] for p in predictions]\n",
        "\n",
        "test_df[\"sentiment_binary\"] = test_df[\"sentiment\"].map(label_mapping)\n",
        "\n",
        "accuracy = accuracy_score(test_df[\"sentiment_binary\"], predicted_labels)\n",
        "precision = precision_score(test_df[\"sentiment_binary\"], predicted_labels)\n",
        "recall = recall_score(test_df[\"sentiment_binary\"], predicted_labels)\n",
        "f1 = f1_score(test_df[\"sentiment_binary\"], predicted_labels)\n",
        "\n",
        "print(\"\\nBaseline Evaluation Metrics:\")\n",
        "print(f\"Accuracy: {accuracy:.4f}\")\n",
        "print(f\"Precision: {precision:.4f}\")\n",
        "print(f\"Recall: {recall:.4f}\")\n",
        "print(f\"F1 Score: {f1:.4f}\")\n",
        "print(\"\\nDetailed Classification Report:\")\n",
        "print(classification_report(test_df[\"sentiment_binary\"], predicted_labels, target_names=['negative', 'positive']))\n",
        "\n",
        "results = {\n",
        "    'Accuracy': [accuracy],\n",
        "    'Precision': [precision],\n",
        "    'Recall': [recall],\n",
        "    'F1 Score': [f1],\n",
        "}\n",
        "\n",
        "results_df = pd.DataFrame(results)\n",
        "\n",
        "report_dict = classification_report(test_df[\"sentiment_binary\"], predicted_labels, target_names=['negative', 'positive'], output_dict=True)\n",
        "report_df = pd.DataFrame(report_dict).transpose()\n",
        "\n",
        "with pd.ExcelWriter('/content/4_Baseline_DistilBERT_final.xlsx') as writer:\n",
        "    results_df.to_excel(writer, sheet_name='Metrics', index=False)\n",
        "    report_df.to_excel(writer, sheet_name='Classification Report', index=True)\n",
        "\n",
        "from google.colab import files\n",
        "files.download('/content/4_Baseline_DistilBERT_final.xlsx')"
      ],
      "metadata": {
        "colab": {
          "base_uri": "https://localhost:8080/",
          "height": 363
        },
        "id": "8p8s1hNvc3QI",
        "outputId": "5823eb1d-55b0-4825-e2da-f2547abaef69"
      },
      "execution_count": null,
      "outputs": [
        {
          "output_type": "stream",
          "name": "stderr",
          "text": [
            "Device set to use cuda:0\n"
          ]
        },
        {
          "output_type": "stream",
          "name": "stdout",
          "text": [
            "\n",
            "Baseline Evaluation Metrics:\n",
            "Accuracy: 0.8904\n",
            "Precision: 0.9163\n",
            "Recall: 0.8610\n",
            "F1 Score: 0.8878\n",
            "\n",
            "Detailed Classification Report:\n",
            "              precision    recall  f1-score   support\n",
            "\n",
            "    negative       0.87      0.92      0.89      9935\n",
            "    positive       0.92      0.86      0.89     10065\n",
            "\n",
            "    accuracy                           0.89     20000\n",
            "   macro avg       0.89      0.89      0.89     20000\n",
            "weighted avg       0.89      0.89      0.89     20000\n",
            "\n"
          ]
        },
        {
          "output_type": "display_data",
          "data": {
            "text/plain": [
              "<IPython.core.display.Javascript object>"
            ],
            "application/javascript": [
              "\n",
              "    async function download(id, filename, size) {\n",
              "      if (!google.colab.kernel.accessAllowed) {\n",
              "        return;\n",
              "      }\n",
              "      const div = document.createElement('div');\n",
              "      const label = document.createElement('label');\n",
              "      label.textContent = `Downloading \"${filename}\": `;\n",
              "      div.appendChild(label);\n",
              "      const progress = document.createElement('progress');\n",
              "      progress.max = size;\n",
              "      div.appendChild(progress);\n",
              "      document.body.appendChild(div);\n",
              "\n",
              "      const buffers = [];\n",
              "      let downloaded = 0;\n",
              "\n",
              "      const channel = await google.colab.kernel.comms.open(id);\n",
              "      // Send a message to notify the kernel that we're ready.\n",
              "      channel.send({})\n",
              "\n",
              "      for await (const message of channel.messages) {\n",
              "        // Send a message to notify the kernel that we're ready.\n",
              "        channel.send({})\n",
              "        if (message.buffers) {\n",
              "          for (const buffer of message.buffers) {\n",
              "            buffers.push(buffer);\n",
              "            downloaded += buffer.byteLength;\n",
              "            progress.value = downloaded;\n",
              "          }\n",
              "        }\n",
              "      }\n",
              "      const blob = new Blob(buffers, {type: 'application/binary'});\n",
              "      const a = document.createElement('a');\n",
              "      a.href = window.URL.createObjectURL(blob);\n",
              "      a.download = filename;\n",
              "      div.appendChild(a);\n",
              "      a.click();\n",
              "      div.remove();\n",
              "    }\n",
              "  "
            ]
          },
          "metadata": {}
        },
        {
          "output_type": "display_data",
          "data": {
            "text/plain": [
              "<IPython.core.display.Javascript object>"
            ],
            "application/javascript": [
              "download(\"download_d40610d2-7d98-4338-8fef-12c931c88a8f\", \"4_Baseline_DistilBERT_final.xlsx\", 5837)"
            ]
          },
          "metadata": {}
        },
        {
          "output_type": "stream",
          "name": "stdout",
          "text": [
            "time: 3min 50s (started: 2025-01-03 15:34:08 +00:00)\n"
          ]
        }
      ]
    },
    {
      "cell_type": "code",
      "source": [],
      "metadata": {
        "id": "NGbcXgJmlmcV"
      },
      "execution_count": null,
      "outputs": []
    }
  ]
}